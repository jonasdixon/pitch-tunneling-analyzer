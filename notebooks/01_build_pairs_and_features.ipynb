{
 "cells": [
  {
   "cell_type": "markdown",
   "metadata": {},
   "source": [
    "# 01 — Build Pairs and Tunnel Features\n",
    "This notebook builds prior→current pitch pairs from Statcast and computes RP, SD, and TunnelScore.\n"
   ]
  },
  {
   "cell_type": "code",
   "metadata": {},
   "execution_count": null,
   "outputs": [],
   "source": [
    "            import pandas as pd\n",
    "            from src.data.pair_builder import build_pairs\n",
    "            from src.features.tunneling import add_tunnel_features\n",
    "\n",
    "            raw_csv = \"data/raw/statcast_2023_04.csv\"  # update path if needed\n",
    "            pairs_csv = \"data/processed/pitch_pairs_2023_04.csv\"\n",
    "            scored_csv = \"data/processed/pitch_pairs_scored_2023_04.csv\"\n",
    "\n",
    "            df = pd.read_csv(raw_csv, low_memory=False)\n",
    "            pairs = build_pairs(df)\n",
    "            pairs.to_csv(pairs_csv, index=False)\n",
    "\n",
    "            pairs = add_tunnel_features(pairs)\n",
    "            pairs.to_csv(scored_csv, index=False)\n",
    "            print(\"Saved:\", scored_csv, len(pairs))\n",
    "            "
   ]
  }
 ],
 "metadata": {
  "kernelspec": {
   "display_name": "Python 3",
   "language": "python",
   "name": "python3"
  },
  "language_info": {
   "name": "python",
   "version": "3.10"
  }
 },
 "nbformat": 4,
 "nbformat_minor": 5
}