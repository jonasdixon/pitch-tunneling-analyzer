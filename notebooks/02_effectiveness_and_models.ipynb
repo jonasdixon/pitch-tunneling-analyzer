{
 "cells": [
  {
   "cell_type": "markdown",
   "metadata": {},
   "source": [
    "# 02 — Effectiveness and Models\n",
    "Compute outcome flags, TunnelScore quintile effects, and optional models.\n"
   ]
  },
  {
   "cell_type": "code",
   "metadata": {},
   "execution_count": null,
   "outputs": [],
   "source": [
    "            import pandas as pd\n",
    "            from src.metrics.outcomes import add_outcome_flags, summarize_outcomes\n",
    "            from src.viz.pair_maps import tunnel_quintile_effect\n",
    "\n",
    "            scored_csv = \"data/processed/pitch_pairs_scored_2023_04.csv\"\n",
    "            pairs = pd.read_csv(scored_csv, low_memory=False)\n",
    "\n",
    "            pairs = add_outcome_flags(pairs)\n",
    "            pairs.to_csv(\"data/processed/pitch_pairs_scored_outcomes_2023_04.csv\", index=False)\n",
    "\n",
    "            # League-level quintile plot (CSW as example)\n",
    "            fig = tunnel_quintile_effect(pairs, value_col=\"csw\")\n",
    "            fig.savefig(\"reports/figures/csw_vs_quintile.png\", dpi=150)\n",
    "\n",
    "            # Summary by pitcher-season\n",
    "            summary = summarize_outcomes(pairs, by=[\"pitcher\", \"season\"], min_n=100)\n",
    "            summary.sort_values(\"CSW%\", ascending=False).head()\n",
    "            "
   ]
  }
 ],
 "metadata": {
  "kernelspec": {
   "display_name": "Python 3",
   "language": "python",
   "name": "python3"
  },
  "language_info": {
   "name": "python",
   "version": "3.10"
  }
 },
 "nbformat": 4,
 "nbformat_minor": 5
}