{
 "cells": [
  {
   "cell_type": "markdown",
   "metadata": {},
   "source": [
    "# 03 — Pitcher Profiles\n",
    "Create pitcher-level leaderboards and basic dashboards for sequences.\n"
   ]
  },
  {
   "cell_type": "code",
   "metadata": {},
   "execution_count": null,
   "outputs": [],
   "source": [
    "            import pandas as pd\n",
    "\n",
    "            pairs = pd.read_csv(\"data/processed/pitch_pairs_scored_outcomes_2023_04.csv\", low_memory=False)\n",
    "\n",
    "            # Example: top TunnelScore average by pitcher (min N)\n",
    "            grp = pairs.groupby([\"pitcher\", \"season\"]).agg(\n",
    "                n=(\"pitch_number\", \"size\"),\n",
    "                tunnel_mean=(\"TunnelScore\", \"mean\"),\n",
    "            ).reset_index()\n",
    "            grp = grp[grp[\"n\"] >= 200].sort_values(\"tunnel_mean\", ascending=False)\n",
    "            grp.head(20)\n",
    "            "
   ]
  }
 ],
 "metadata": {
  "kernelspec": {
   "display_name": "Python 3",
   "language": "python",
   "name": "python3"
  },
  "language_info": {
   "name": "python",
   "version": "3.10"
  }
 },
 "nbformat": 4,
 "nbformat_minor": 5
}